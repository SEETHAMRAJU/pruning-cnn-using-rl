{
 "cells": [
  {
   "cell_type": "code",
   "execution_count": 28,
   "metadata": {},
   "outputs": [],
   "source": [
    "from keras.applications import VGG16\n",
    "from keras.models import Model\n",
    "from keras.layers import Dense, Conv2D, MaxPooling2D\n",
    "from keras.datasets import cifar10\n",
    "from keras import Input\n",
    "\n",
    "from kerassurgeon import Surgeon\n",
    "\n",
    "class Cifar10VGG16:\n",
    "    \n",
    "    def __init__(self):\n",
    "            \n",
    "        (self.x_train, self.y_train), (self.x_test, self.y_test) = cifar10.load_data()\n",
    "        self.model = VGG16(weights='imagenet', input_tensor=\\\n",
    "                           Input(shape=self.x_train.shape[1:]))\n",
    "        \n",
    "        \n",
    "        \n",
    "    def get_feature_from_layer(name):\n",
    "        pass\n",
    "    \n",
    "    def observation_space():\n",
    "        pass\n",
    "    \n",
    "    def action_space():\n",
    "        pass\n",
    "            \n",
    "    \n",
    "    def step(action):\n",
    "        surgeon = Surgeon(self.model)\n",
    "        surgeon.add_job('delete_channels', self.model, layer, channels=action)\n",
    "        return surgeon.operate()\n",
    "          \n",
    "        \n",
    "    def __str__():\n",
    "        return self.model.summary()\n",
    "        "
   ]
  },
  {
   "cell_type": "code",
   "execution_count": null,
   "metadata": {},
   "outputs": [],
   "source": [
    "vgg = Cifar10VGG16()"
   ]
  },
  {
   "cell_type": "code",
   "execution_count": null,
   "metadata": {},
   "outputs": [],
   "source": [
    "vgg.model.summary()"
   ]
  },
  {
   "cell_type": "code",
   "execution_count": null,
   "metadata": {},
   "outputs": [],
   "source": []
  }
 ],
 "metadata": {
  "kernelspec": {
   "display_name": "Python 3",
   "language": "python",
   "name": "python3"
  },
  "language_info": {
   "codemirror_mode": {
    "name": "ipython",
    "version": 3
   },
   "file_extension": ".py",
   "mimetype": "text/x-python",
   "name": "python",
   "nbconvert_exporter": "python",
   "pygments_lexer": "ipython3",
   "version": "3.6.7"
  }
 },
 "nbformat": 4,
 "nbformat_minor": 2
}
